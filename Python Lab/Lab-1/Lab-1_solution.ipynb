{
 "cells": [
  {
   "cell_type": "code",
   "execution_count": 1,
   "id": "6ac4fb13",
   "metadata": {},
   "outputs": [
    {
     "name": "stdout",
     "output_type": "stream",
     "text": [
      "The quotient is:  5.0\n"
     ]
    }
   ],
   "source": [
    "# 1. Declare a div() function with two parameters. Then call the function and pass two\n",
    "# numbers and display their division.\n",
    "\n",
    "\n",
    "\n",
    "def div(divident, divisor):\n",
    "    print(\"The quotient is: \", divident/divisor)\n",
    "    \n",
    "div(10,2)"
   ]
  },
  {
   "cell_type": "code",
   "execution_count": 2,
   "id": "eda5661e",
   "metadata": {},
   "outputs": [
    {
     "name": "stdout",
     "output_type": "stream",
     "text": [
      "The square of the number is:  25\n"
     ]
    }
   ],
   "source": [
    "# 2. Declare a square() function with one parameter.Then call the function and pass\n",
    "# one number and display the square of that number .\n",
    "\n",
    "def square(num):\n",
    "    print(\"The square of the number is: \", num*num)\n",
    "    \n",
    "square(5)"
   ]
  },
  {
   "cell_type": "code",
   "execution_count": 4,
   "id": "7c688007",
   "metadata": {},
   "outputs": [
    {
     "name": "stdout",
     "output_type": "stream",
     "text": [
      "random numbers:  [20, 7, 18, 78, 28]\n",
      "maximum number:  78\n",
      "minimum number:  7\n"
     ]
    }
   ],
   "source": [
    "# 3. Using max() and min() functions display the maximum and minimum of 5 random\n",
    "# numbers.\n",
    "\n",
    "import random\n",
    "\n",
    "num = [random.randint(1,100) for i in range(5)]\n",
    "max_ = max(num)\n",
    "min_ = min(num)\n",
    "\n",
    "print(\"random numbers: \", num)\n",
    "\n",
    "print(\"maximum number: \", max_)\n",
    "print(\"minimum number: \", min_)"
   ]
  },
  {
   "cell_type": "code",
   "execution_count": 5,
   "id": "9f4b0f01",
   "metadata": {},
   "outputs": [
    {
     "name": "stdout",
     "output_type": "stream",
     "text": [
      "Enter a name: PRATEEK\n",
      "name in lower case:  prateek\n"
     ]
    }
   ],
   "source": [
    "# 4. Accept a name from the user and display that in lower case using lower()\n",
    "# function\n",
    "\n",
    "name = str(input(\"Enter a name: \"))\n",
    "print(\"name in lower case: \", name.lower())"
   ]
  },
  {
   "cell_type": "code",
   "execution_count": 9,
   "id": "6ddbf04d",
   "metadata": {},
   "outputs": [
    {
     "name": "stdout",
     "output_type": "stream",
     "text": [
      "to: 2\n",
      "change: 2\n",
      "the: 3\n",
      "overall: 1\n",
      "look: 2\n",
      "of: 1\n",
      "your: 1\n",
      "document: 1\n",
      "available: 1\n",
      "in: 1\n",
      "gallery: 1\n"
     ]
    }
   ],
   "source": [
    "#1. Write a Python program to count the occurrences of each word in a\n",
    "#   given sentence\n",
    "#   string = “To change the overall look of your document. To change the look\n",
    "#   available in the gallery”\n",
    "\n",
    "# Given sentence\n",
    "sentence = \"To change the overall look of your document. To change the look available in the gallery\"\n",
    "\n",
    "#  lower case\n",
    "sentence = sentence.lower()\n",
    "\n",
    "# Split the sentence into words\n",
    "words = sentence.split()\n",
    "\n",
    "# dictionary to store the word counts\n",
    "word_counts = {}\n",
    "\n",
    "# counting occurrences of each word\n",
    "for word in words:\n",
    "    # Removal of punctuation\n",
    "    word = word.strip('.,')\n",
    "    if word in word_counts:\n",
    "        word_counts[word] += 1\n",
    "    else:\n",
    "        word_counts[word] = 1\n",
    "\n",
    "for word, count in word_counts.items():\n",
    "    print(f\"{word}: {count}\")\n"
   ]
  },
  {
   "cell_type": "code",
   "execution_count": 10,
   "id": "a4abd7ed",
   "metadata": {},
   "outputs": [
    {
     "name": "stdout",
     "output_type": "stream",
     "text": [
      "Best Deeptech Python Training\n"
     ]
    }
   ],
   "source": [
    "# 2. Write a Python program to remove a newline in Python. String = \"\\nBest \\nDeeptech \\nPython \\nTraining\\n\"\n",
    "\n",
    "\n",
    "string = \"\\nBest \\nDeeptech \\nPython \\nTraining\\n\"\n",
    "\n",
    "# Remove newline characters\n",
    "cleaned_string = string.replace('\\n', '')\n",
    "\n",
    "\n",
    "print(cleaned_string)\n",
    "\n",
    "\n"
   ]
  },
  {
   "cell_type": "code",
   "execution_count": 1,
   "id": "e5ac20fa",
   "metadata": {},
   "outputs": [
    {
     "name": "stdout",
     "output_type": "stream",
     "text": [
      "Vowel counts in the text:\n",
      "e: 2\n",
      "o: 3\n",
      "a: 1\n",
      "i: 2\n"
     ]
    }
   ],
   "source": [
    "# Write a Python program to count and display the vowels of a given text String=”Welcome to python Training”\n",
    "\n",
    "def count_vowels(text):\n",
    "    vowels = \"aeiouAEIOU\"\n",
    "    vowel_counts = {}\n",
    "\n",
    "    for char in text:\n",
    "        if char in vowels:\n",
    "            if char.lower() in vowel_counts:\n",
    "                vowel_counts[char.lower()] += 1\n",
    "            else:\n",
    "                vowel_counts[char.lower()] = 1\n",
    "    \n",
    "    # Displaying the vowel counts\n",
    "    print(\"Vowel counts in the text:\")\n",
    "    for vowel, count in vowel_counts.items():\n",
    "        print(f\"{vowel}: {count}\")\n",
    "\n",
    "\n",
    "String = \"Welcome to python Training\"\n",
    "count_vowels(String)\n"
   ]
  },
  {
   "cell_type": "code",
   "execution_count": 2,
   "id": "296b527f",
   "metadata": {},
   "outputs": [
    {
     "name": "stdout",
     "output_type": "stream",
     "text": [
      "Chars = 8\n",
      "Digits = 3\n",
      "Symbols = 4\n"
     ]
    }
   ],
   "source": [
    "# Write a Python program to Count all letters, digits, and special symbols from the given string\n",
    "#Input = “P@#yn26at^&i5ve”\n",
    "#Output: Chars = 8 Digits = 2 Symbol = 3\n",
    "\n",
    "def count_characters(input_string):\n",
    "    letters = 0\n",
    "    digits = 0\n",
    "    symbols = 0\n",
    "\n",
    "    for char in input_string:\n",
    "        if char.isalpha():\n",
    "            letters += 1\n",
    "        elif char.isdigit():\n",
    "            digits += 1\n",
    "        else:\n",
    "            symbols += 1\n",
    "\n",
    "\n",
    "    print(f\"Chars = {letters}\")\n",
    "    print(f\"Digits = {digits}\")\n",
    "    print(f\"Symbols = {symbols}\")\n",
    "\n",
    "\n",
    "input_string = \"P@#yn26at^&i5ve\"\n",
    "count_characters(input_string)\n"
   ]
  },
  {
   "cell_type": "code",
   "execution_count": 3,
   "id": "6dc3e43a",
   "metadata": {},
   "outputs": [
    {
     "name": "stdout",
     "output_type": "stream",
     "text": [
      "Output: String adFuco\n"
     ]
    }
   ],
   "source": [
    "# Write a Python program to remove duplicate characters of a given string.\n",
    "# Input = “String and String Function”\n",
    "# Output: String and Function \n",
    "\n",
    "def remove_duplicates(input_string):\n",
    "    seen = set()\n",
    "    result = []\n",
    "\n",
    "    for char in input_string:\n",
    "        if char not in seen:\n",
    "            seen.add(char)\n",
    "            result.append(char)\n",
    "    \n",
    "    return ''.join(result)\n",
    "\n",
    "\n",
    "input_string = \"String and String Function\"\n",
    "output_string = remove_duplicates(input_string)\n",
    "print(\"Output:\", output_string)\n"
   ]
  },
  {
   "cell_type": "code",
   "execution_count": 4,
   "id": "2af2bc24",
   "metadata": {},
   "outputs": [
    {
     "name": "stdout",
     "output_type": "stream",
     "text": [
      "UpperCase : 5\n",
      "LowerCase : 18\n",
      "NumberCase : 5\n",
      "SpecialCase : 11\n"
     ]
    }
   ],
   "source": [
    "# Write a Python program to count Uppercase, Lowercase, special character and numeric values in a given string\n",
    "# Input = “Hell0 W0rld ! 123 * # welcome to pYtHoN”\n",
    "# Output:\n",
    "# UpperCase : 5\n",
    "# LowerCase : 18\n",
    "# NumberCase : 5\n",
    "# SpecialCase : 11\n",
    "\n",
    "\n",
    "def count_characters(input_string):\n",
    "    uppercase_count = 0\n",
    "    lowercase_count = 0\n",
    "    number_count = 0\n",
    "    special_count = 0\n",
    "\n",
    "    for char in input_string:\n",
    "        if char.isupper():\n",
    "            uppercase_count += 1\n",
    "        elif char.islower():\n",
    "            lowercase_count += 1\n",
    "        elif char.isdigit():\n",
    "            number_count += 1\n",
    "        else:\n",
    "            special_count += 1\n",
    "\n",
    "  \n",
    "    print(f\"UpperCase : {uppercase_count}\")\n",
    "    print(f\"LowerCase : {lowercase_count}\")\n",
    "    print(f\"NumberCase : {number_count}\")\n",
    "    print(f\"SpecialCase : {special_count}\")\n",
    "\n",
    "\n",
    "input_string = \"Hell0 W0rld ! 123 * # welcome to pYtHoN\"\n",
    "count_characters(input_string)\n"
   ]
  },
  {
   "cell_type": "code",
   "execution_count": 5,
   "id": "52f167b1",
   "metadata": {},
   "outputs": [
    {
     "name": "stdout",
     "output_type": "stream",
     "text": [
      "Total vowels are: 8\n"
     ]
    }
   ],
   "source": [
    "# Write a Python Count vowels in a string\n",
    "# input= “Welcome to Python Assignment”\n",
    "# Output: Total vowels are: \n",
    "\n",
    "def count_vowels(input_string):\n",
    "    vowels = \"aeiouAEIOU\"\n",
    "    vowel_count = 0\n",
    "\n",
    "    for char in input_string:\n",
    "        if char in vowels:\n",
    "            vowel_count += 1\n",
    "    \n",
    "    print(f\"Total vowels are: {vowel_count}\")\n",
    "\n",
    "input_string = \"Welcome to Python Assignment\"\n",
    "count_vowels(input_string)\n"
   ]
  },
  {
   "cell_type": "code",
   "execution_count": null,
   "id": "600fde81",
   "metadata": {},
   "outputs": [],
   "source": []
  }
 ],
 "metadata": {
  "kernelspec": {
   "display_name": "Python 3 (ipykernel)",
   "language": "python",
   "name": "python3"
  },
  "language_info": {
   "codemirror_mode": {
    "name": "ipython",
    "version": 3
   },
   "file_extension": ".py",
   "mimetype": "text/x-python",
   "name": "python",
   "nbconvert_exporter": "python",
   "pygments_lexer": "ipython3",
   "version": "3.9.13"
  }
 },
 "nbformat": 4,
 "nbformat_minor": 5
}
