{
 "cells": [
  {
   "cell_type": "code",
   "execution_count": 2,
   "id": "59c1d40c",
   "metadata": {},
   "outputs": [
    {
     "name": "stdout",
     "output_type": "stream",
     "text": [
      "Enter the Divident: 50\n",
      "Enter the Divisor: 0\n",
      "Cant divide by 0\n"
     ]
    }
   ],
   "source": [
    "# WAP to handle a zero divison error exception when dividing a number by 0\n",
    "\n",
    "num1= int(input(\"Enter the Divident: \"))\n",
    "num2= int(input(\"Enter the Divisor: \"))\n",
    "\n",
    "try:\n",
    "    print(\"The Quotient is: \", num1/num2)\n",
    "    \n",
    "except:\n",
    "    \n",
    "    print(\"Cant divide by 0\")\n"
   ]
  },
  {
   "cell_type": "code",
   "execution_count": 6,
   "id": "2958a050",
   "metadata": {
    "scrolled": true
   },
   "outputs": [
    {
     "name": "stdout",
     "output_type": "stream",
     "text": [
      "Enter a number: g\n",
      "Invalid input. Please enter a valid number.\n"
     ]
    }
   ],
   "source": [
    "# WAP that prompts the user to input an integer and raises a Value Error exception if the input is not a valid integer\n",
    "\n",
    "try:\n",
    "    num = int(input(\"Enter a number: \"))\n",
    "    print(num)\n",
    "except ValueError as e:\n",
    "    print(\"Invalid input. Please enter a valid number.\")"
   ]
  },
  {
   "cell_type": "code",
   "execution_count": 9,
   "id": "d6184c73",
   "metadata": {},
   "outputs": [
    {
     "name": "stdout",
     "output_type": "stream",
     "text": [
      "file is not found\n"
     ]
    }
   ],
   "source": [
    "# WAP that opens a file and handles a FileNotFoundError exception if the file does not exist\n",
    "\n",
    "try:\n",
    "    with open(\"nice.txt\") as f:\n",
    "        print(\"file opened\")\n",
    "    \n",
    "except FileNotFoundError as e:\n",
    "    \n",
    "    print(\"file is not found\")\n",
    "    "
   ]
  },
  {
   "cell_type": "code",
   "execution_count": 10,
   "id": "db7f1116",
   "metadata": {},
   "outputs": [
    {
     "name": "stdout",
     "output_type": "stream",
     "text": [
      "enter first number: 5\n",
      "enter second number: a\n",
      "inputs are not numerical\n"
     ]
    }
   ],
   "source": [
    "# WAP that prompts the user to input 2 numbers and raises TypeError exception if the inputs are not numerical.\n",
    "\n",
    "try:\n",
    "    num1= int(input(\"enter first number: \"))\n",
    "    num2= int(input(\"enter second number: \"))\n",
    "except:\n",
    "    \n",
    "    print(\"inputs are not numerical\")\n",
    "    \n",
    "else:\n",
    "    print(\"the sum is:\", num1+num2)"
   ]
  }
 ],
 "metadata": {
  "kernelspec": {
   "display_name": "Python 3 (ipykernel)",
   "language": "python",
   "name": "python3"
  },
  "language_info": {
   "codemirror_mode": {
    "name": "ipython",
    "version": 3
   },
   "file_extension": ".py",
   "mimetype": "text/x-python",
   "name": "python",
   "nbconvert_exporter": "python",
   "pygments_lexer": "ipython3",
   "version": "3.9.13"
  }
 },
 "nbformat": 4,
 "nbformat_minor": 5
}
