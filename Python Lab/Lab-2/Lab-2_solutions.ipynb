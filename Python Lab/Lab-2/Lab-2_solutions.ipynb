{
 "cells": [
  {
   "cell_type": "code",
   "execution_count": 10,
   "id": "faa67886",
   "metadata": {},
   "outputs": [
    {
     "name": "stdout",
     "output_type": "stream",
     "text": [
      "India is a peninsular country. India is also known as the subcontinent\n",
      "India: 2\n"
     ]
    }
   ],
   "source": [
    "# Writing to the file\n",
    "with open(\"India.txt\", 'w') as file:\n",
    "    file.write(\"India is a peninsular country. India is also known as the subcontinent\")\n",
    "\n",
    "# Reading from the file\n",
    "with open(\"India.txt\", 'r') as file:\n",
    "    data = file.read()\n",
    "    print(data)\n",
    "\n",
    "# Counting the occurrence of \"India\"\n",
    "words = data.split()\n",
    "counts = 0\n",
    "for word in words:\n",
    "    word = word.strip('.,')  \n",
    "    if word == \"India\":\n",
    "        counts += 1\n",
    "\n",
    "print(f\"India: {counts}\")\n",
    "\n"
   ]
  },
  {
   "cell_type": "code",
   "execution_count": 13,
   "id": "2068dfc5",
   "metadata": {},
   "outputs": [
    {
     "name": "stdout",
     "output_type": "stream",
     "text": [
      "File is written\n",
      "This is a file where some lines start with a T.\n",
      "Tomorrow is unknown, yesterday is gone,\n",
      "Number of lines starting with 'T': 2\n"
     ]
    }
   ],
   "source": [
    "#  WAP to count and display the lines starting with 'T' in a text file story.txt\n",
    "\n",
    "# Writing to the file\n",
    "file = open(\"story.txt\", 'w')\n",
    "file.write(\"This is a file where some lines start with a T.\\nTomorrow is unknown, yesterday is gone,\\nbut today is a gift, thats why its called present.\")\n",
    "file.close()\n",
    "print(\"File is written\")\n",
    "\n",
    "# Reading from the file and processing the lines\n",
    "file = open(\"story.txt\", 'r')\n",
    "lines = file.readlines()\n",
    "file.close()\n",
    "\n",
    "# Counting and displaying lines starting with 'T'\n",
    "count = 0\n",
    "for line in lines:\n",
    "    if line.strip().startswith('T'):  # strip to remove leading/trailing whitespace\n",
    "        count += 1\n",
    "        print(line.strip())\n",
    "\n",
    "print(f\"Number of lines starting with 'T': {count}\")\n",
    "\n",
    "\n"
   ]
  },
  {
   "cell_type": "code",
   "execution_count": 11,
   "id": "363fce88",
   "metadata": {},
   "outputs": [
    {
     "name": "stdout",
     "output_type": "stream",
     "text": [
      "File is written\n",
      "File content:\n",
      "This is a file where some lines start with a T.\n",
      "Tomorrow is unknown, yesterday is gone,\n",
      "but today is a gift, that's why it's called present.\n",
      "Vowels: 38\n",
      "Consonants: 69\n"
     ]
    }
   ],
   "source": [
    "# WAP to count vowels and consonants in the file myfile.txt\n",
    "# Write content to the file\n",
    "with open(\"myfile.txt\", 'w') as file:\n",
    "    file.write(\"This is a file where some lines start with a T.\\nTomorrow is unknown, yesterday is gone,\\nbut today is a gift, that's why it's called present.\")\n",
    "print(\"File is written\")\n",
    "\n",
    "# Count vowels and consonants\n",
    "vowels = \"aeiouAEIOU\"\n",
    "vowel_count = 0\n",
    "consonant_count = 0\n",
    "\n",
    "with open(\"myfile.txt\", 'r') as file:\n",
    "    data = file.read()\n",
    "    print(\"File content:\")\n",
    "    print(data)\n",
    "    \n",
    "    for char in data:\n",
    "        if char.isalpha():  # Checking if the character is an alphabet letter\n",
    "            if char in vowels:\n",
    "                vowel_count += 1\n",
    "            else:\n",
    "                consonant_count += 1\n",
    "\n",
    "print(f\"Vowels: {vowel_count}\")\n",
    "print(f\"Consonants: {consonant_count}\")\n",
    "\n",
    "\n",
    "\n"
   ]
  },
  {
   "cell_type": "code",
   "execution_count": 12,
   "id": "87e95c46",
   "metadata": {},
   "outputs": [
    {
     "name": "stdout",
     "output_type": "stream",
     "text": [
      "File is written\n",
      "File content:\n",
      "This is an interesting file. In this file, we include various words starting with i, such as ideas, initial, and interesting.\n",
      "Number of words starting with 'i': 8\n"
     ]
    }
   ],
   "source": [
    "# WAP to count and display number of words starting with 'i' in word.txt\n",
    "\n",
    "# Writing content to the file\n",
    "with open(\"word.txt\", 'w') as file:\n",
    "    file.write(\"This is an interesting file. In this file, we include various words starting with i, such as ideas, initial, and interesting.\")\n",
    "print(\"File is written\")\n",
    "\n",
    "# Counting and displaying the number of words starting with 'i'\n",
    "start_letter = 'i'\n",
    "word_count = 0\n",
    "\n",
    "with open(\"word.txt\", 'r') as file:\n",
    "    data = file.read()\n",
    "    print(\"File content:\")\n",
    "    print(data)\n",
    "    \n",
    "    words = data.split()  # Spliting the content into words\n",
    "    for word in words:\n",
    "        word = word.strip('.,') \n",
    "        if word.lower().startswith(start_letter):\n",
    "            word_count += 1\n",
    "\n",
    "print(f\"Number of words starting with '{start_letter}': {word_count}\")\n"
   ]
  },
  {
   "cell_type": "code",
   "execution_count": 13,
   "id": "13a25309",
   "metadata": {},
   "outputs": [
    {
     "name": "stdout",
     "output_type": "stream",
     "text": [
      "File is written\n",
      "Lines with more than 5 words:\n",
      "This is a sample line with exactly five words.\n",
      "This line has more than five words, so it should be displayed.\n",
      "Another line that also has more than five words in it.\n"
     ]
    }
   ],
   "source": [
    "# WAP to display the lines having more than 5 words in a text file notes.txt\n",
    "\n",
    "\n",
    "with open(\"notes.txt\", 'w') as file:\n",
    "    file.write(\"This is a sample line with exactly five words.\\n\")\n",
    "    file.write(\"This line has more than five words, so it should be displayed.\\n\")\n",
    "    file.write(\"Short line.\\n\")\n",
    "    file.write(\"Another line that also has more than five words in it.\\n\")\n",
    "print(\"File is written\")\n",
    "\n",
    "# Displaying lines with more than 5 words\n",
    "word_threshold = 5\n",
    "\n",
    "with open(\"notes.txt\", 'r') as file:\n",
    "    lines = file.readlines()\n",
    "    print(\"Lines with more than 5 words:\")\n",
    "    \n",
    "    for line in lines:\n",
    "        words = line.split()  # Spliting the line into words\n",
    "        if len(words) > word_threshold:\n",
    "            print(line.strip())  \n"
   ]
  },
  {
   "cell_type": "code",
   "execution_count": 2,
   "id": "36538af5",
   "metadata": {},
   "outputs": [
    {
     "name": "stdout",
     "output_type": "stream",
     "text": [
      "Enter roll number: 80\n",
      "Enter name: prateek\n",
      "Enter marks: 100\n",
      "Do you want to enter more data? (yes/no): yes\n",
      "Enter roll number: 56\n",
      "Enter name: patrick\n",
      "Enter marks: 99\n",
      "Do you want to enter more data? (yes/no): no\n",
      "Data has been written to <_io.BufferedWriter name='stu.dat'>\n"
     ]
    }
   ],
   "source": [
    "# WAP to create a binary file \"stu.dat\" and enter students roll no, name and marks till user wants.\n",
    "\n",
    "import pickle\n",
    "\n",
    "with open('stu.dat', 'wb') as file:\n",
    "    while True:\n",
    "        roll_no = int(input(\"Enter roll number: \"))\n",
    "        name = input(\"Enter name: \")\n",
    "        marks = float(input(\"Enter marks: \"))\n",
    "\n",
    "        # dictionary for student data\n",
    "        student_data = {\n",
    "            'roll_no': roll_no,\n",
    "            'name': name,\n",
    "            'marks': marks\n",
    "        }\n",
    "\n",
    "        pickle.dump(student_data, file)\n",
    "\n",
    "\n",
    "        # if user wants to enter more data\n",
    "        more = input(\"Do you want to enter more data? (yes/no): \").strip().lower()\n",
    "        if more != 'yes':\n",
    "            break\n",
    "    print(f\"Data has been written to {file}\")\n",
    "\n",
    "\n"
   ]
  },
  {
   "cell_type": "code",
   "execution_count": 8,
   "id": "4984fb62",
   "metadata": {},
   "outputs": [
    {
     "name": "stdout",
     "output_type": "stream",
     "text": [
      "{'roll_no': 80, 'name': 'prateek', 'marks': 100.0}\n",
      "{'roll_no': 56, 'name': 'patrick', 'marks': 99.0}\n"
     ]
    }
   ],
   "source": [
    "# WAP to read a binary file \"stu.dat\" and display the records of students having marks greater than 81\n",
    "\n",
    "\n",
    "import pickle\n",
    "\n",
    "def read_students_with_high_marks(file_name, threshold=81):\n",
    "    try:\n",
    "        with open(file_name, 'rb') as file:\n",
    "            try:\n",
    "                while True:\n",
    "                    student_data = pickle.load(file)\n",
    "                    if student_data['marks'] > threshold:\n",
    "                        print(student_data)\n",
    "            except EOFError:\n",
    "                pass  # End of file reached\n",
    "    except FileNotFoundError:\n",
    "        print(f\"The file {file_name} does not exist.\")\n",
    "    except Exception as e:\n",
    "        print(f\"An error occurred: {e}\")\n",
    "\n",
    "read_students_with_high_marks('stu.dat')\n",
    "\n",
    "\n",
    "        \n",
    "        "
   ]
  },
  {
   "cell_type": "code",
   "execution_count": null,
   "id": "e34b2ce7",
   "metadata": {},
   "outputs": [],
   "source": []
  },
  {
   "cell_type": "code",
   "execution_count": null,
   "id": "cd6c3b49",
   "metadata": {},
   "outputs": [],
   "source": []
  }
 ],
 "metadata": {
  "kernelspec": {
   "display_name": "Python 3 (ipykernel)",
   "language": "python",
   "name": "python3"
  },
  "language_info": {
   "codemirror_mode": {
    "name": "ipython",
    "version": 3
   },
   "file_extension": ".py",
   "mimetype": "text/x-python",
   "name": "python",
   "nbconvert_exporter": "python",
   "pygments_lexer": "ipython3",
   "version": "3.9.13"
  }
 },
 "nbformat": 4,
 "nbformat_minor": 5
}
