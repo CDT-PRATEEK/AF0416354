{
 "cells": [
  {
   "cell_type": "code",
   "execution_count": 13,
   "id": "5b34da42",
   "metadata": {},
   "outputs": [],
   "source": [
    "import pandas as pd\n",
    "\n",
    "from tabulate import tabulate\n",
    "\n"
   ]
  },
  {
   "cell_type": "code",
   "execution_count": 14,
   "id": "342f228e",
   "metadata": {},
   "outputs": [],
   "source": [
    "data = [\n",
    "    [\"stdid\", \"stdname\", \"standard\", \"Age\", \"Hindi\", \"English\", \"Maths\", \"Science\", \"Computer\", \"Total\"],\n",
    "    [\"std101\", \"Ashish Kumar\", \"10th\", 15, 67, 89, 87, 89, 90, 422],\n",
    "    [\"std102\", \"Abhishek Kumar\", \"10th\", 14, 90, 90, 90, 45, 45, 360],\n",
    "    [\"std103\", \"Aman\", \"10th\", 15, 67, 56, 78, 78, 45, 313],\n",
    "    [\"std104\", \"Rahul\", \"10th\", 15, 89, 56, 45, 45, 67, 302],\n",
    "    [\"std105\", \"Ruby\", \"10th\", 13, 78, 90, 67, 45, 56, 336],\n",
    "    [\"std106\", \"Suman\", \"10th\", 15, 90, 45, 67, 67, 67, 403],\n",
    "    [\"std107\", \"Saurabh\", \"10th\", 15, 45, 23, 34, 78, 90, 270],\n",
    "    [\"std108\", \"Sumit\", \"10th\", 15, 78, 90, 67, 78, 78, 391],\n",
    "    [\"std109\", \"Kamlesh\", \"10th\", 15, 45, 78, 56, 67, 67, 303],\n",
    "    [\"std110\", \"Rohan\", \"10th\", 15, 12, 24, 45, 56, 34, 171]\n",
    "]"
   ]
  },
  {
   "cell_type": "code",
   "execution_count": 15,
   "id": "7150feb4",
   "metadata": {},
   "outputs": [],
   "source": [
    "df = pd.DataFrame(data[1:], columns=data[0])"
   ]
  },
  {
   "cell_type": "code",
   "execution_count": 16,
   "id": "3689920e",
   "metadata": {
    "scrolled": true
   },
   "outputs": [
    {
     "name": "stdout",
     "output_type": "stream",
     "text": [
      "    stdid         stdname standard  Age  Hindi  English  Maths  Science  \\\n",
      "0  std101    Ashish Kumar     10th   15     67       89     87       89   \n",
      "1  std102  Abhishek Kumar     10th   14     90       90     90       45   \n",
      "2  std103            Aman     10th   15     67       56     78       78   \n",
      "3  std104           Rahul     10th   15     89       56     45       45   \n",
      "4  std105            Ruby     10th   13     78       90     67       45   \n",
      "5  std106           Suman     10th   15     90       45     67       67   \n",
      "6  std107         Saurabh     10th   15     45       23     34       78   \n",
      "7  std108           Sumit     10th   15     78       90     67       78   \n",
      "8  std109         Kamlesh     10th   15     45       78     56       67   \n",
      "9  std110           Rohan     10th   15     12       24     45       56   \n",
      "\n",
      "   Computer  Total  \n",
      "0        90    422  \n",
      "1        45    360  \n",
      "2        45    313  \n",
      "3        67    302  \n",
      "4        56    336  \n",
      "5        67    403  \n",
      "6        90    270  \n",
      "7        78    391  \n",
      "8        67    303  \n",
      "9        34    171  \n"
     ]
    }
   ],
   "source": [
    "print(df)"
   ]
  },
  {
   "cell_type": "code",
   "execution_count": 19,
   "id": "23a025a0",
   "metadata": {},
   "outputs": [
    {
     "name": "stdout",
     "output_type": "stream",
     "text": [
      "+---------+----------------+------------+-------+---------+-----------+---------+-----------+------------+---------+\n",
      "| stdid   | stdname        | standard   |   Age |   Hindi |   English |   Maths |   Science |   Computer |   Total |\n",
      "+=========+================+============+=======+=========+===========+=========+===========+============+=========+\n",
      "| std101  | Ashish Kumar   | 10th       |    15 |      67 |        89 |      87 |        89 |         90 |     422 |\n",
      "+---------+----------------+------------+-------+---------+-----------+---------+-----------+------------+---------+\n",
      "| std102  | Abhishek Kumar | 10th       |    14 |      90 |        90 |      90 |        45 |         45 |     360 |\n",
      "+---------+----------------+------------+-------+---------+-----------+---------+-----------+------------+---------+\n",
      "| std103  | Aman           | 10th       |    15 |      67 |        56 |      78 |        78 |         45 |     313 |\n",
      "+---------+----------------+------------+-------+---------+-----------+---------+-----------+------------+---------+\n",
      "| std104  | Rahul          | 10th       |    15 |      89 |        56 |      45 |        45 |         67 |     302 |\n",
      "+---------+----------------+------------+-------+---------+-----------+---------+-----------+------------+---------+\n",
      "| std105  | Ruby           | 10th       |    13 |      78 |        90 |      67 |        45 |         56 |     336 |\n",
      "+---------+----------------+------------+-------+---------+-----------+---------+-----------+------------+---------+\n",
      "| std106  | Suman          | 10th       |    15 |      90 |        45 |      67 |        67 |         67 |     403 |\n",
      "+---------+----------------+------------+-------+---------+-----------+---------+-----------+------------+---------+\n",
      "| std107  | Saurabh        | 10th       |    15 |      45 |        23 |      34 |        78 |         90 |     270 |\n",
      "+---------+----------------+------------+-------+---------+-----------+---------+-----------+------------+---------+\n",
      "| std108  | Sumit          | 10th       |    15 |      78 |        90 |      67 |        78 |         78 |     391 |\n",
      "+---------+----------------+------------+-------+---------+-----------+---------+-----------+------------+---------+\n",
      "| std109  | Kamlesh        | 10th       |    15 |      45 |        78 |      56 |        67 |         67 |     303 |\n",
      "+---------+----------------+------------+-------+---------+-----------+---------+-----------+------------+---------+\n",
      "| std110  | Rohan          | 10th       |    15 |      12 |        24 |      45 |        56 |         34 |     171 |\n",
      "+---------+----------------+------------+-------+---------+-----------+---------+-----------+------------+---------+\n"
     ]
    }
   ],
   "source": [
    "studenttable = tabulate(data[1:], headers = data[0], tablefmt = 'grid')  # student data into table\n",
    "print(studenttable)"
   ]
  },
  {
   "cell_type": "code",
   "execution_count": 20,
   "id": "16959644",
   "metadata": {
    "scrolled": true
   },
   "outputs": [
    {
     "name": "stdout",
     "output_type": "stream",
     "text": [
      "students whose marks in english are greater than 50 are: \n",
      "Ashish Kumar\n",
      "Abhishek Kumar\n",
      "Aman\n",
      "Rahul\n",
      "Ruby\n",
      "Sumit\n",
      "Kamlesh\n"
     ]
    }
   ],
   "source": [
    "print(\"students whose marks in english are greater than 50 are: \")\n",
    "for i in range(1,len(data)):\n",
    "    if(int(data[i][5]) >50):\n",
    "        print(data[i][1])"
   ]
  },
  {
   "cell_type": "code",
   "execution_count": 22,
   "id": "7ab26e0f",
   "metadata": {},
   "outputs": [],
   "source": [
    "# display students name and age of top 4 scorers of math\n",
    "\n",
    "\n",
    "data_rows = data[1:]\n",
    "\n",
    "# Sort the data rows by the 'Maths' column (index 6) in descending order\n",
    "sorted_data = sorted(data_rows, key=lambda x: int(x[6]), reverse=True)\n",
    "\n",
    "# Get the top 4 scorers\n",
    "top_4_scorers = sorted_data[:4]"
   ]
  },
  {
   "cell_type": "code",
   "execution_count": 24,
   "id": "a4b4845a",
   "metadata": {
    "scrolled": true
   },
   "outputs": [
    {
     "name": "stdout",
     "output_type": "stream",
     "text": [
      "Top 4 scorers in Math are:\n",
      "Abhishek Kumar 14\n",
      "Ashish Kumar 15\n",
      "Aman 15\n",
      "Ruby 13\n"
     ]
    }
   ],
   "source": [
    "print(\"Top 4 scorers in Math are:\")\n",
    "for row in top_4_scorers:\n",
    "    print(row[1], row[3]) "
   ]
  },
  {
   "cell_type": "code",
   "execution_count": 25,
   "id": "be0b8c9a",
   "metadata": {},
   "outputs": [],
   "source": [
    "# name , id , age of students who are bottom 3 scorer of computer\n",
    "\n",
    "\n",
    "data_rows2 = data[1:]\n",
    "sorted_data2 = sorted(data_rows, key=lambda x: int(x[8]), reverse=False)\n",
    "\n",
    "bottom_3 = sorted_data2[:3]\n"
   ]
  },
  {
   "cell_type": "code",
   "execution_count": 26,
   "id": "b234752a",
   "metadata": {},
   "outputs": [
    {
     "name": "stdout",
     "output_type": "stream",
     "text": [
      "bottom 3 scorers in computer are:\n",
      "std110 Rohan 15\n",
      "std102 Abhishek Kumar 14\n",
      "std103 Aman 15\n"
     ]
    }
   ],
   "source": [
    "print(\"bottom 3 scorers in computer are:\")\n",
    "for row in bottom_3:\n",
    "    print(row[0], row[1], row[3]) "
   ]
  },
  {
   "cell_type": "code",
   "execution_count": 31,
   "id": "fa013f10",
   "metadata": {},
   "outputs": [
    {
     "name": "stdout",
     "output_type": "stream",
     "text": [
      "(1, 2, 3, 0, 56, 34)\n"
     ]
    }
   ],
   "source": [
    "t= (1,2,3,0,56,34)  # slicing in tuples\n",
    "\n",
    "print(t[-6:])"
   ]
  },
  {
   "cell_type": "code",
   "execution_count": 35,
   "id": "167cd02a",
   "metadata": {},
   "outputs": [
    {
     "name": "stdout",
     "output_type": "stream",
     "text": [
      "34 56 0 3 2 1\n"
     ]
    }
   ],
   "source": [
    "t= (1,2,3,0,56,34)  # slicing\n",
    "\n",
    "print(*t[::-1], end=\"\\n\")"
   ]
  },
  {
   "cell_type": "code",
   "execution_count": null,
   "id": "860d51df",
   "metadata": {},
   "outputs": [],
   "source": []
  }
 ],
 "metadata": {
  "kernelspec": {
   "display_name": "Python 3 (ipykernel)",
   "language": "python",
   "name": "python3"
  },
  "language_info": {
   "codemirror_mode": {
    "name": "ipython",
    "version": 3
   },
   "file_extension": ".py",
   "mimetype": "text/x-python",
   "name": "python",
   "nbconvert_exporter": "python",
   "pygments_lexer": "ipython3",
   "version": "3.9.13"
  }
 },
 "nbformat": 4,
 "nbformat_minor": 5
}
