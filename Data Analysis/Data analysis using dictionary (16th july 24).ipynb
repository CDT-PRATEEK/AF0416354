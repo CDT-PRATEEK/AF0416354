{
 "cells": [
  {
   "cell_type": "code",
   "execution_count": 1,
   "id": "a22fb046",
   "metadata": {},
   "outputs": [
    {
     "name": "stdout",
     "output_type": "stream",
     "text": [
      "{'stdid': 'std101', 'stdname': 'ashish kumar', 'standard': '10th', 'age': 15, 'hindi': 67, 'english': 89}\n"
     ]
    }
   ],
   "source": [
    "studentdata ={ \"stdid\":'std101', \"stdname\": 'ashish kumar', 'standard': '10th', 'age': 15, 'hindi':67, 'english':89}\n",
    "print(studentdata)\n"
   ]
  },
  {
   "cell_type": "code",
   "execution_count": 2,
   "id": "beb17500",
   "metadata": {},
   "outputs": [
    {
     "data": {
      "text/plain": [
       "67"
      ]
     },
     "execution_count": 2,
     "metadata": {},
     "output_type": "execute_result"
    }
   ],
   "source": [
    "#delete element having key as hindi \n",
    "studentdata.pop('hindi')"
   ]
  },
  {
   "cell_type": "code",
   "execution_count": 3,
   "id": "e352fe10",
   "metadata": {},
   "outputs": [
    {
     "data": {
      "text/plain": [
       "15"
      ]
     },
     "execution_count": 3,
     "metadata": {},
     "output_type": "execute_result"
    }
   ],
   "source": [
    "studentdata.pop('age','english')"
   ]
  },
  {
   "cell_type": "code",
   "execution_count": 4,
   "id": "978d875e",
   "metadata": {},
   "outputs": [
    {
     "name": "stdout",
     "output_type": "stream",
     "text": [
      "{'stdid': 'std101', 'stdname': 'ashish kumar', 'standard': '10th', 'english': 89}\n"
     ]
    }
   ],
   "source": [
    "print(studentdata)"
   ]
  },
  {
   "cell_type": "code",
   "execution_count": 5,
   "id": "cd51c914",
   "metadata": {},
   "outputs": [
    {
     "name": "stdout",
     "output_type": "stream",
     "text": [
      "{'stdid': 'std101', 'stdname': 'ashish kumar', 'standard': '10th'}\n"
     ]
    }
   ],
   "source": [
    "studentdata.popitem()      # Deletes last item off the list\n",
    "print(studentdata)"
   ]
  },
  {
   "cell_type": "code",
   "execution_count": 6,
   "id": "61d6683e",
   "metadata": {},
   "outputs": [
    {
     "name": "stdout",
     "output_type": "stream",
     "text": [
      "dict_keys(['stdid', 'stdname', 'standard'])\n"
     ]
    }
   ],
   "source": [
    "# keys() find all the keys of dic \n",
    "elements=studentdata.keys()\n",
    "print(elements)"
   ]
  },
  {
   "cell_type": "code",
   "execution_count": 7,
   "id": "e6583ecb",
   "metadata": {},
   "outputs": [
    {
     "name": "stdout",
     "output_type": "stream",
     "text": [
      "dict_values(['std101', 'ashish kumar', '10th'])\n"
     ]
    }
   ],
   "source": [
    "# find out all the values\n",
    "elements=studentdata.values()\n",
    "print(elements)"
   ]
  },
  {
   "cell_type": "code",
   "execution_count": 8,
   "id": "23f34b85",
   "metadata": {},
   "outputs": [
    {
     "name": "stdout",
     "output_type": "stream",
     "text": [
      "dict_items([('stdid', 'std101'), ('stdname', 'ashish kumar'), ('standard', '10th')])\n"
     ]
    }
   ],
   "source": [
    "# find out all the elements\n",
    "elements=studentdata.items()\n",
    "print(elements)"
   ]
  },
  {
   "cell_type": "code",
   "execution_count": 11,
   "id": "42d5e366",
   "metadata": {},
   "outputs": [
    {
     "name": "stdout",
     "output_type": "stream",
     "text": [
      "The values are: \n",
      "std101\n",
      "ashish kumar\n",
      "10th\n"
     ]
    }
   ],
   "source": [
    "# to find the values of all the elements\n",
    "print(\"The values are: \")\n",
    "for data in studentdata.values():\n",
    "    print(data)"
   ]
  },
  {
   "cell_type": "code",
   "execution_count": 12,
   "id": "9aaf3a69",
   "metadata": {},
   "outputs": [
    {
     "name": "stdout",
     "output_type": "stream",
     "text": [
      "10th\n"
     ]
    }
   ],
   "source": [
    "x=studentdata.get('standard')  # fetching value of a key\n",
    "print(x)"
   ]
  },
  {
   "cell_type": "code",
   "execution_count": 18,
   "id": "670ae4b5",
   "metadata": {
    "scrolled": true
   },
   "outputs": [
    {
     "name": "stdout",
     "output_type": "stream",
     "text": [
      "value of key maths assigned as 100\n",
      "100\n",
      "{'stdid': 'std101', 'stdname': 'ashish kumar', 'standard': '10th'}\n"
     ]
    }
   ],
   "source": [
    "x=studentdata.get('maths',\"100\")                # value of key maths assigned 100\n",
    "print(\"value of key maths assigned as 100\")\n",
    "print(x)\n",
    "print(studentdata)"
   ]
  },
  {
   "cell_type": "code",
   "execution_count": 16,
   "id": "c81537e1",
   "metadata": {},
   "outputs": [
    {
     "name": "stdout",
     "output_type": "stream",
     "text": [
      "first= {'name': 'alok', 'age': 17, 'standard': '12th'}\n",
      "first= {'hindi': 68, 'age': 15, 'standard': '7th', 'english': 88}\n"
     ]
    }
   ],
   "source": [
    "# Creating the first dictionary object\n",
    "dicobj_1 = {'name': 'alok', 'age': 17, 'standard': '12th'}\n",
    "print(\"first=\", dicobj_1)\n",
    "\n",
    "# Creating the second dictionary object\n",
    "dicobj_2 = {'hindi': 68, 'age': 15, 'standard': '7th', 'english': 88}\n",
    "print(\"first=\", dicobj_2)\n"
   ]
  },
  {
   "cell_type": "code",
   "execution_count": 17,
   "id": "470212f6",
   "metadata": {},
   "outputs": [
    {
     "name": "stdout",
     "output_type": "stream",
     "text": [
      "{'name': 'alok', 'age': 15, 'standard': '7th', 'hindi': 68, 'english': 88}\n"
     ]
    }
   ],
   "source": [
    "# inseting all the elements of second dic into first \n",
    "dicobj_1.update(dicobj_2)\n",
    "print(dicobj_1)"
   ]
  },
  {
   "cell_type": "code",
   "execution_count": 20,
   "id": "d4bb88fd",
   "metadata": {},
   "outputs": [
    {
     "name": "stdout",
     "output_type": "stream",
     "text": [
      "{'name': dict_values([68, 15, '7th', 88]), 'age': dict_values([68, 15, '7th', 88]), 'standard': dict_values([68, 15, '7th', 88]), 'hindi': dict_values([68, 15, '7th', 88]), 'english': dict_values([68, 15, '7th', 88])}\n"
     ]
    }
   ],
   "source": [
    "# dicobj_1.keys() returns the keys of dicobj_1\n",
    "# dicobj_2.values() returns the values of dicobj_2\n",
    "# The fromkeys method will use these keys and assign the same value (the values view object) to each key\n",
    "x = dicobj_1.fromkeys(dicobj_1.keys(), dicobj_2.values())\n",
    "\n",
    "# resulting dictionary\n",
    "print(x)"
   ]
  },
  {
   "cell_type": "code",
   "execution_count": 22,
   "id": "657fc583",
   "metadata": {},
   "outputs": [
    {
     "name": "stdout",
     "output_type": "stream",
     "text": [
      "{'name': None, 'age': 15, 'standard': '7th', 'hindi': 68, 'english': 88}\n"
     ]
    }
   ],
   "source": [
    "# dictionary using keys from dicobj_1 and values from dicobj_2\n",
    "\n",
    "x = {key: dicobj_2.get(key, None) for key in dicobj_1.keys()}\n",
    "\n",
    "# resulting dictionary\n",
    "print(x)"
   ]
  },
  {
   "cell_type": "code",
   "execution_count": null,
   "id": "494be5fb",
   "metadata": {},
   "outputs": [],
   "source": []
  }
 ],
 "metadata": {
  "kernelspec": {
   "display_name": "Python 3 (ipykernel)",
   "language": "python",
   "name": "python3"
  },
  "language_info": {
   "codemirror_mode": {
    "name": "ipython",
    "version": 3
   },
   "file_extension": ".py",
   "mimetype": "text/x-python",
   "name": "python",
   "nbconvert_exporter": "python",
   "pygments_lexer": "ipython3",
   "version": "3.9.13"
  }
 },
 "nbformat": 4,
 "nbformat_minor": 5
}
